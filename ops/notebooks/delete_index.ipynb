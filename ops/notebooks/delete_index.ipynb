{
 "cells": [
  {
   "cell_type": "code",
   "execution_count": 4,
   "metadata": {},
   "outputs": [
    {
     "name": "stdout",
     "output_type": "stream",
     "text": [
      "Content matching '\\index{...}' has been removed. Saved as 1121_Income_Tax_Law_No_Index.txt\n"
     ]
    }
   ],
   "source": [
    "import re\n",
    "\n",
    "# Input and output file paths\n",
    "input_file_path = '1121_Income_Tax_Law_By_Topic.rmd'\n",
    "output_file_path = '1121_Income_Tax_Law_No_Index.txt'\n",
    "\n",
    "# Define the regular expression pattern to match \"\\index{...}\"\n",
    "pattern = r\"\\\\index\\{[^}]*\\}\"\n",
    "\n",
    "# Read the input Rmd file with utf-8 encoding\n",
    "with open(input_file_path, 'r', encoding='utf-8') as input_file:\n",
    "    rmd_content = input_file.read()\n",
    "\n",
    "# Use re.sub to remove all matches of the pattern\n",
    "cleaned_content = re.sub(pattern, '', rmd_content)\n",
    "\n",
    "# Write the cleaned content to the output Rmd file\n",
    "with open(output_file_path, 'w', encoding='utf-8') as output_file:\n",
    "    output_file.write(cleaned_content)\n",
    "\n",
    "print(\"Content matching '\\\\index{...}' has been removed. Saved as\", output_file_path)\n"
   ]
  },
  {
   "cell_type": "code",
   "execution_count": null,
   "metadata": {},
   "outputs": [],
   "source": []
  }
 ],
 "metadata": {
  "kernelspec": {
   "display_name": "Python 3",
   "language": "python",
   "name": "python3"
  },
  "language_info": {
   "codemirror_mode": {
    "name": "ipython",
    "version": 3
   },
   "file_extension": ".py",
   "mimetype": "text/x-python",
   "name": "python",
   "nbconvert_exporter": "python",
   "pygments_lexer": "ipython3",
   "version": "3.12.0"
  }
 },
 "nbformat": 4,
 "nbformat_minor": 2
}
