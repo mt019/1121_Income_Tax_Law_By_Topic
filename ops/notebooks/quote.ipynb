{
 "cells": [
  {
   "cell_type": "code",
   "execution_count": 1,
   "metadata": {},
   "outputs": [
    {
     "name": "stdout",
     "output_type": "stream",
     "text": [
      "已处理文件: D:\\NTU\\_1121\\1121_Income_Tax_Law _By_Topic\\all.rmd\n",
      "已处理文件: D:\\NTU\\_1121\\1121_Income_Tax_Law _By_Topic\\index.rmd\n",
      "已处理文件: D:\\NTU\\_1121\\1121_Income_Tax_Law _By_Topic\\preamble.tex\n",
      "已处理文件: D:\\NTU\\_1121\\1121_Income_Tax_Law _By_Topic\\docs\\1121_Income_Tax_Law.tex\n",
      "已处理文件: D:\\NTU\\_1121\\1121_Income_Tax_Law _By_Topic\\latex\\after_body.tex\n",
      "已处理文件: D:\\NTU\\_1121\\1121_Income_Tax_Law _By_Topic\\latex\\before_body.tex\n",
      "已处理文件: D:\\NTU\\_1121\\1121_Income_Tax_Law _By_Topic\\latex\\preamble.tex\n",
      "已处理文件: D:\\NTU\\_1121\\1121_Income_Tax_Law _By_Topic\\latex\\template.tex\n",
      "已处理文件: D:\\NTU\\_1121\\1121_Income_Tax_Law _By_Topic\\_byhour\\20230904_01.rmd\n",
      "已处理文件: D:\\NTU\\_1121\\1121_Income_Tax_Law _By_Topic\\_byhour\\20230904_02.rmd\n",
      "已处理文件: D:\\NTU\\_1121\\1121_Income_Tax_Law _By_Topic\\_byhour\\20230911_01.rmd\n",
      "已处理文件: D:\\NTU\\_1121\\1121_Income_Tax_Law _By_Topic\\_byhour\\20230911_02.rmd\n",
      "已处理文件: D:\\NTU\\_1121\\1121_Income_Tax_Law _By_Topic\\_byhour\\20230918_01.rmd\n",
      "已处理文件: D:\\NTU\\_1121\\1121_Income_Tax_Law _By_Topic\\_byhour\\20230918_02.rmd\n",
      "已处理文件: D:\\NTU\\_1121\\1121_Income_Tax_Law _By_Topic\\_byhour\\20230925_01.rmd\n",
      "已处理文件: D:\\NTU\\_1121\\1121_Income_Tax_Law _By_Topic\\_byhour\\20230925_02.rmd\n",
      "已处理文件: D:\\NTU\\_1121\\1121_Income_Tax_Law _By_Topic\\_byhour\\20231002_01.rmd\n",
      "已处理文件: D:\\NTU\\_1121\\1121_Income_Tax_Law _By_Topic\\_byhour\\20231002_02.rmd\n",
      "已处理文件: D:\\NTU\\_1121\\1121_Income_Tax_Law _By_Topic\\_byhour\\20231016_01.rmd\n",
      "已处理文件: D:\\NTU\\_1121\\1121_Income_Tax_Law _By_Topic\\_byhour\\20231016_02.rmd\n",
      "已处理文件: D:\\NTU\\_1121\\1121_Income_Tax_Law _By_Topic\\_byhour\\20231023_01.rmd\n",
      "已处理文件: D:\\NTU\\_1121\\1121_Income_Tax_Law _By_Topic\\_byhour\\20231023_02.rmd\n",
      "已处理文件: D:\\NTU\\_1121\\1121_Income_Tax_Law _By_Topic\\_byhour\\20231030_01.rmd\n",
      "已处理文件: D:\\NTU\\_1121\\1121_Income_Tax_Law _By_Topic\\_byhour\\20231030_02.rmd\n",
      "已处理文件: D:\\NTU\\_1121\\1121_Income_Tax_Law _By_Topic\\_byhour\\20231106_01.rmd\n",
      "已处理文件: D:\\NTU\\_1121\\1121_Income_Tax_Law _By_Topic\\_byhour\\20231106_02.rmd\n",
      "已处理文件: D:\\NTU\\_1121\\1121_Income_Tax_Law _By_Topic\\_byhour\\20231111_01.rmd\n",
      "已处理文件: D:\\NTU\\_1121\\1121_Income_Tax_Law _By_Topic\\_byhour\\20231111_02.rmd\n",
      "已处理文件: D:\\NTU\\_1121\\1121_Income_Tax_Law _By_Topic\\_byhour\\20231120_01.rmd\n",
      "已处理文件: D:\\NTU\\_1121\\1121_Income_Tax_Law _By_Topic\\_byhour\\20231120_02.rmd\n",
      "已处理文件: D:\\NTU\\_1121\\1121_Income_Tax_Law _By_Topic\\_byhour\\20231127_01.rmd\n",
      "已处理文件: D:\\NTU\\_1121\\1121_Income_Tax_Law _By_Topic\\_byhour\\20231127_02.rmd\n",
      "已处理文件: D:\\NTU\\_1121\\1121_Income_Tax_Law _By_Topic\\_byhour\\20231204_01.rmd\n",
      "已处理文件: D:\\NTU\\_1121\\1121_Income_Tax_Law _By_Topic\\_byhour\\20231204_02.rmd\n",
      "已处理文件: D:\\NTU\\_1121\\1121_Income_Tax_Law _By_Topic\\_byhour\\20231211_01.rmd\n",
      "已处理文件: D:\\NTU\\_1121\\1121_Income_Tax_Law _By_Topic\\_byhour\\20231211_02.rmd\n"
     ]
    }
   ],
   "source": [
    "import os\n",
    "\n",
    "def replace_quotes_in_file(file_path):\n",
    "    with open(file_path, 'r', encoding='utf-8') as file:\n",
    "        content = file.read()\n",
    "\n",
    "    # 将中文引号替换为方角引号\n",
    "    content = content.replace('“', '「').replace('”', '」').replace('采取','採取').replace('前注','前註')\n",
    "\n",
    "    with open(file_path, 'w', encoding='utf-8') as file:\n",
    "        file.write(content)\n",
    "\n",
    "def process_files_in_directory(directory):\n",
    "    for root, dirs, files in os.walk(directory):\n",
    "        for file_name in files:\n",
    "            if file_name.endswith(('.rmd', '.tex')):\n",
    "                file_path = os.path.join(root, file_name)\n",
    "                replace_quotes_in_file(file_path)\n",
    "                print(f'已处理文件: {file_path}')\n",
    "\n",
    "# 指定包含txt文件的文件夹路径\n",
    "folder_path =  r\"D:\\NTU\\_1121\\1121_Income_Tax_Law _By_Topic\"\n",
    "\n",
    "# 处理文件夹中的所有文件\n",
    "process_files_in_directory(folder_path)\n"
   ]
  },
  {
   "cell_type": "code",
   "execution_count": null,
   "metadata": {},
   "outputs": [],
   "source": []
  }
 ],
 "metadata": {
  "kernelspec": {
   "display_name": "Python 3",
   "language": "python",
   "name": "python3"
  },
  "language_info": {
   "codemirror_mode": {
    "name": "ipython",
    "version": 3
   },
   "file_extension": ".py",
   "mimetype": "text/x-python",
   "name": "python",
   "nbconvert_exporter": "python",
   "pygments_lexer": "ipython3",
   "version": "3.12.0"
  }
 },
 "nbformat": 4,
 "nbformat_minor": 2
}
