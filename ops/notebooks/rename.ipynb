{
 "cells": [
  {
   "cell_type": "code",
   "execution_count": 2,
   "metadata": {},
   "outputs": [],
   "source": [
    "import os\n",
    "import shutil\n",
    "\n",
    "# 获取当前工作目录\n",
    "current_directory = os.getcwd()\n",
    "\n",
    "# # 要更改的文件夾路徑\n",
    "# # folder_path = r\"D:\\NTU\\_1121\\1121_Income_Tax_Law\"\n",
    "\n",
    "# # 显示当前工作目录\n",
    "# print(\"当前路径是:\", current_directory)\n",
    "\n",
    "# folder_path = current_directory\n",
    "\n",
    "# # 源路径（A路径）和目标路径（B路径）\n",
    "# source_path = r'D:\\NTU\\_1121\\Prof_Ko_1121'\n",
    "# destination_path = folder_path\n"
   ]
  },
  {
   "cell_type": "markdown",
   "metadata": {},
   "source": [
    "# All in One"
   ]
  },
  {
   "cell_type": "code",
   "execution_count": 3,
   "metadata": {},
   "outputs": [],
   "source": [
    "import os\n",
    "\n",
    "# Define the directory where your .rmd files are located.\n",
    "directory = current_directory  # Replace with your folder path\n",
    "\n",
    "# Placeholder for the combined content\n",
    "combined_content = \"\"\n",
    "\n",
    "# Loop through each file in the directory\n",
    "for filename in sorted(os.listdir(directory)):\n",
    "    # Check if the file is an Rmd file\n",
    "    if filename.endswith(\".rmd\"):\n",
    "        # Extract the base name (without .rmd)\n",
    "        basename = filename[:-4]\n",
    "        # Read the content of the file\n",
    "        with open(os.path.join(directory, filename), 'r', encoding='utf-8') as file:\n",
    "            content = file.read()\n",
    "            # Add a header with the file name and then the content of the file to the combined content\n",
    "            combined_content += f\"\\n{content}\\n\"\n",
    "            # combined_content += f\"\\n# 【{basename}】\\n{content}\\n\"\n",
    "\n",
    "# Write the combined content to a new file: all.txt\n",
    "with open(r\"all.rmd\", 'w', encoding='utf-8') as file:\n",
    "    file.write(combined_content)\n"
   ]
  },
  {
   "cell_type": "code",
   "execution_count": null,
   "metadata": {},
   "outputs": [],
   "source": []
  }
 ],
 "metadata": {
  "kernelspec": {
   "display_name": "Python 3",
   "language": "python",
   "name": "python3"
  },
  "language_info": {
   "codemirror_mode": {
    "name": "ipython",
    "version": 3
   },
   "file_extension": ".py",
   "mimetype": "text/x-python",
   "name": "python",
   "nbconvert_exporter": "python",
   "pygments_lexer": "ipython3",
   "version": "3.12.0"
  },
  "orig_nbformat": 4
 },
 "nbformat": 4,
 "nbformat_minor": 2
}
